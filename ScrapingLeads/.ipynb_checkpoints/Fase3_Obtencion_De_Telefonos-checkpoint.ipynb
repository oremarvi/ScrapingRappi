{
 "cells": [
  {
   "cell_type": "code",
   "execution_count": 2,
   "id": "e43c7608",
   "metadata": {},
   "outputs": [],
   "source": [
    "import pandas as pd\n",
    "from pathlib import Path\n",
    "from selenium import webdriver\n",
    "from selenium.webdriver.chrome.options import Options\n",
    "from selenium.webdriver.chrome.service import Service\n",
    "from webdriver_manager.chrome import ChromeDriverManager\n",
    "from selenium.webdriver.common.by import By\n",
    "from selenium.webdriver.common.keys import Keys\n",
    "import re\n",
    "import pandas as pd\n",
    "import time\n",
    "import requests\n",
    "from bs4 import BeautifulSoup\n",
    "import pyodbc\n",
    "from datetime import datetime\n",
    "from selenium.common.exceptions import NoSuchElementException\n",
    "from selenium.common import exceptions\n"
   ]
  },
  {
   "cell_type": "code",
   "execution_count": 3,
   "id": "5bd9c214",
   "metadata": {},
   "outputs": [],
   "source": [
    "##MAIPU\n",
    "file_path = Path(r\"C:\\Users\\adm\\Desktop\\10 COMUNAS\\BD_MASTER_10COMUNAS.csv\")\n",
    "bd_master = pd.read_csv(file_path,sep = ';')"
   ]
  },
  {
   "cell_type": "code",
   "execution_count": 4,
   "id": "e2026ab8",
   "metadata": {},
   "outputs": [],
   "source": [
    "#REDUCIR DATAFRAME A SOLO UN RESTAURANT\n",
    "bd_master.drop_duplicates('URL', keep=\"last\", inplace=True)\n",
    "bd_master.sort_index(inplace=True) "
   ]
  },
  {
   "cell_type": "code",
   "execution_count": null,
   "id": "f9ccb36c",
   "metadata": {},
   "outputs": [],
   "source": [
    "instanteInicial = datetime.now()\n",
    "#############################################\n",
    "tlf_no = \"Telefono no encontrado\"\n",
    "lista_platos_2 = []\n",
    "lista_restaurant_2=[]\n",
    "lista_direccion_2=[]\n",
    "lista_telefono =[]\n",
    "contador_restaurante = 1\n",
    "driver = webdriver.Chrome(executable_path = \"./chromedriver.exe\")\n",
    "\n",
    "\n",
    "for indice, fila in bd_master.iterrows():\n",
    "    driver.get(\"https://www.google.com\")\n",
    "    time.sleep(2)\n",
    "    ##OBTENCION DE RESTAURANTES PARA ITERACION\n",
    "    restaurant_2 = fila['RESTAURANT']\n",
    "    ubicacion_1= fila[\"DIRECCION\"]\n",
    "    ubicacion_2 = ubicacion_1.replace(\"\\n\",\"\")\n",
    "    \n",
    "    search_bar = driver.find_element(By.XPATH, '//input[@class=\"gLFyf\"]')\n",
    "    search_bar.send_keys(restaurant_2 ,\" \", ubicacion_2 , \" Numero de telefono\" )\n",
    "    search_bar.send_keys(Keys.ENTER)\n",
    "    time.sleep(2)\n",
    "\n",
    "    try:\n",
    "        l = driver.find_element(By.XPATH, '//span[@class=\"mw31Ze\"]')\n",
    "        s = l.text\n",
    "        lista_telefono.append(s)\n",
    "        lista_restaurant_2.append(restaurant_2)\n",
    "        lista_direccion_2.append(ubicacion_2)\n",
    "        lista_platos = [lista_restaurant_2 , lista_direccion_2 ,  lista_telefono]\n",
    "        print(contador_restaurante ,\"SE AGREGO EL NUMERO CORRECTAMENTE DEL RESTAURANT: \",restaurant_2)\n",
    "\n",
    "    except NoSuchElementException :\n",
    "        lista_telefono.append(tlf_no)\n",
    "        lista_restaurant_2.append(restaurant_2)\n",
    "        lista_direccion_2.append(ubicacion_2)\n",
    "        lista_platos_2= [lista_restaurant_2 , lista_direccion_2 ,  lista_telefono]\n",
    "        print(contador_restaurante, \"NO SE ENCONTRO EL NUMERO DEL RESTAURANT: \", restaurant_2)\n",
    "    \n",
    "    contador_restaurante = contador_restaurante+1\n",
    "    instanteFinal = datetime.now()\n",
    "    tiempo = instanteFinal - instanteInicial # Devuelve un objeto timedelta\n",
    "    segundos = tiempo.seconds\n",
    "    print(tiempo,segundos,\" Tiempo Consulta\")\n",
    "    time.sleep(1)\n",
    "    driver.forward()\n",
    "    \n",
    "driver.close()\n",
    "\n",
    "                               \n",
    "#############################################\n",
    "instanteFinal = datetime.now()\n",
    "tiempo = instanteFinal - instanteInicial # Devuelve un objeto timedelta\n",
    "segundos = tiempo.seconds\n",
    "print(tiempo,segundos,\" Tiempo Consulta\")"
   ]
  },
  {
   "cell_type": "code",
   "execution_count": null,
   "id": "9a104682",
   "metadata": {},
   "outputs": [],
   "source": [
    "##CREACION DATAFRAME DE RESTAURANT X TELEFONO\n",
    "df_telefonos= pd.DataFrame(lista_platos)\n",
    "df_telefonos = df_telefonos.transpose()\n",
    "df_telefonos.columns = ['RESTAURANT','DIRECCION','TELEFONO']\n",
    "df_telefonos.to_csv(\"RESTAURANT_TELEFONO.csv\", index=False , sep = ';')"
   ]
  }
 ],
 "metadata": {
  "kernelspec": {
   "display_name": "Python 3 (ipykernel)",
   "language": "python",
   "name": "python3"
  },
  "language_info": {
   "codemirror_mode": {
    "name": "ipython",
    "version": 3
   },
   "file_extension": ".py",
   "mimetype": "text/x-python",
   "name": "python",
   "nbconvert_exporter": "python",
   "pygments_lexer": "ipython3",
   "version": "3.9.13"
  }
 },
 "nbformat": 4,
 "nbformat_minor": 5
}
