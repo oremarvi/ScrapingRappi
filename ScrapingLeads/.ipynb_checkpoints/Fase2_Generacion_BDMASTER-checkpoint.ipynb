{
 "cells": [
  {
   "cell_type": "code",
   "execution_count": 1,
   "id": "a3ca479a",
   "metadata": {},
   "outputs": [],
   "source": [
    "import pandas as pd\n",
    "from pathlib import Path\n",
    "from selenium import webdriver\n",
    "from selenium.webdriver.chrome.options import Options\n",
    "from selenium.webdriver.chrome.service import Service\n",
    "from webdriver_manager.chrome import ChromeDriverManager\n",
    "from selenium.webdriver.common.by import By\n",
    "from selenium.webdriver.common.keys import Keys\n",
    "import re\n",
    "import pandas as pd\n",
    "import time\n",
    "import requests\n",
    "from bs4 import BeautifulSoup\n",
    "import pyodbc\n",
    "from datetime import datetime\n",
    "from selenium.common.exceptions import NoSuchElementException\n",
    "from selenium.common import exceptions"
   ]
  },
  {
   "cell_type": "code",
   "execution_count": 2,
   "id": "007c98e9",
   "metadata": {},
   "outputs": [],
   "source": [
    "##ÑUÑOA\n",
    "file_path = Path(r\"C:\\Users\\adm\\Desktop\\10 COMUNAS\\NUNOA_SIN_TELEFONO.csv\")\n",
    "df_nunoa = pd.read_csv(file_path,sep = ';')"
   ]
  },
  {
   "cell_type": "code",
   "execution_count": 3,
   "id": "dfe52b3e",
   "metadata": {},
   "outputs": [],
   "source": [
    "##VITACURA\n",
    "file_path = Path(r\"C:\\Users\\adm\\Desktop\\10 COMUNAS\\VITACURA_SIN_TELEFONO.csv\")\n",
    "df_vitacura = pd.read_csv(file_path,sep = ';')"
   ]
  },
  {
   "cell_type": "code",
   "execution_count": 4,
   "id": "baa6195e",
   "metadata": {},
   "outputs": [],
   "source": [
    "##BARNECHEA\n",
    "file_path = Path(r\"C:\\Users\\adm\\Desktop\\10 COMUNAS\\BARNECHEA_SIN_TELEFONO.csv\")\n",
    "df_barnechea= pd.read_csv(file_path, sep = ';')"
   ]
  },
  {
   "cell_type": "code",
   "execution_count": 5,
   "id": "53ffdf23",
   "metadata": {},
   "outputs": [],
   "source": [
    "#LAS CONDES\n",
    "file_path = Path(r\"C:\\Users\\adm\\Desktop\\10 COMUNAS\\LASCONDES_SIN_TELEFONO.csv\")\n",
    "df_las_condes = pd.read_csv(file_path,sep = ';')"
   ]
  },
  {
   "cell_type": "code",
   "execution_count": 6,
   "id": "15830892",
   "metadata": {},
   "outputs": [],
   "source": [
    "##PROVIDENCIA\n",
    "file_path = Path(r\"C:\\Users\\adm\\Desktop\\10 COMUNAS\\PROVIDENCIA_SIN_TELEFONO.csv\")\n",
    "df_provi = pd.read_csv(file_path,sep = ';')"
   ]
  },
  {
   "cell_type": "code",
   "execution_count": 14,
   "id": "1be97d49",
   "metadata": {},
   "outputs": [],
   "source": [
    "##LA REINA\n",
    "file_path = Path(r\"C:\\Users\\adm\\Desktop\\10 COMUNAS\\LAREINA_SIN_TELEFONO.csv\")\n",
    "df_la_reina = pd.read_csv(file_path,sep = ';')"
   ]
  },
  {
   "cell_type": "code",
   "execution_count": 8,
   "id": "55e1f07e",
   "metadata": {},
   "outputs": [],
   "source": [
    "##SANTIAGO\n",
    "file_path = Path(r\"C:\\Users\\adm\\Desktop\\10 COMUNAS\\SANTIAGO_SIN_TELEFONO.csv\")\n",
    "df_santiago= pd.read_csv(file_path,sep = ';')"
   ]
  },
  {
   "cell_type": "code",
   "execution_count": 9,
   "id": "68d995e3",
   "metadata": {},
   "outputs": [],
   "source": [
    "##PENALOLEN\n",
    "file_path = Path(r\"C:\\Users\\adm\\Desktop\\10 COMUNAS\\PENANOLEN_SIN_TELEFONO.csv\")\n",
    "df_penalolen= pd.read_csv(file_path,sep = ';')"
   ]
  },
  {
   "cell_type": "code",
   "execution_count": 10,
   "id": "6ff37167",
   "metadata": {},
   "outputs": [],
   "source": [
    "##CHICUREO\n",
    "file_path = Path(r\"C:\\Users\\adm\\Desktop\\10 COMUNAS\\CHICUREO_SIN_TELEFONO.csv\")\n",
    "df_chicureo = pd.read_csv(file_path,sep = ';')"
   ]
  },
  {
   "cell_type": "code",
   "execution_count": 13,
   "id": "7e8c9f61",
   "metadata": {},
   "outputs": [],
   "source": [
    "##MAIPU\n",
    "file_path = Path(r\"C:\\Users\\adm\\Desktop\\10 COMUNAS\\MAIPU_SIN_TELEFONO.csv\")\n",
    "df_maipu = pd.read_csv(file_path,sep = ';')"
   ]
  },
  {
   "cell_type": "code",
   "execution_count": 15,
   "id": "a0425a96",
   "metadata": {},
   "outputs": [],
   "source": [
    "##CONCATENAR TODOS LOS DF\n",
    "bd_master = pd.concat([df_provi , df_las_condes,df_la_reina,df_vitacura,df_barnechea,df_nunoa,df_santiago,df_penalolen,df_chicureo,df_maipu], axis=0)\n"
   ]
  },
  {
   "cell_type": "code",
   "execution_count": 17,
   "id": "b1759dd3",
   "metadata": {},
   "outputs": [],
   "source": [
    "bd_master = bd_master.drop_duplicates()"
   ]
  },
  {
   "cell_type": "code",
   "execution_count": 19,
   "id": "bdde0694",
   "metadata": {},
   "outputs": [],
   "source": [
    "bd_master.to_csv(\"BD_MASTER_10COMUNAS.csv\",sep=';', encoding='utf-8', index= False)"
   ]
  }
 ],
 "metadata": {
  "kernelspec": {
   "display_name": "Python 3 (ipykernel)",
   "language": "python",
   "name": "python3"
  },
  "language_info": {
   "codemirror_mode": {
    "name": "ipython",
    "version": 3
   },
   "file_extension": ".py",
   "mimetype": "text/x-python",
   "name": "python",
   "nbconvert_exporter": "python",
   "pygments_lexer": "ipython3",
   "version": "3.9.13"
  }
 },
 "nbformat": 4,
 "nbformat_minor": 5
}
