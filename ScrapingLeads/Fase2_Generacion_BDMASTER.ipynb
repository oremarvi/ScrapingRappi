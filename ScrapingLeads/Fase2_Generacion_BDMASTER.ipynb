{
 "cells": [
  {
   "cell_type": "code",
   "execution_count": null,
   "id": "a3ca479a",
   "metadata": {},
   "outputs": [],
   "source": [
    "import pandas as pd\n",
    "from pathlib import Path\n",
    "from selenium import webdriver\n",
    "from selenium.webdriver.chrome.options import Options\n",
    "from selenium.webdriver.chrome.service import Service\n",
    "from webdriver_manager.chrome import ChromeDriverManager\n",
    "from selenium.webdriver.common.by import By\n",
    "from selenium.webdriver.common.keys import Keys\n",
    "import re\n",
    "import pandas as pd\n",
    "import time\n",
    "import requests\n",
    "from bs4 import BeautifulSoup\n",
    "import pyodbc\n",
    "from datetime import datetime\n",
    "from selenium.common.exceptions import NoSuchElementException\n",
    "from selenium.common import exceptions"
   ]
  },
  {
   "cell_type": "code",
   "execution_count": null,
   "id": "007c98e9",
   "metadata": {},
   "outputs": [],
   "source": [
    "##ÑUÑOA\n",
    "file_path = Path(r\"C:\\Users\\pinnovacion\\Desktop\\SCRAPING_RAPPI\\CODIGO\\COMUNA\\Nunoa\\NUNOA_SIN_TELEFONO.csv\")\n",
    "df_nunoa = pd.read_csv(file_path,sep = ';')"
   ]
  },
  {
   "cell_type": "code",
   "execution_count": null,
   "id": "dfe52b3e",
   "metadata": {},
   "outputs": [],
   "source": [
    "##VITACURA\n",
    "file_path = Path(r\"C:\\Users\\pinnovacion\\Desktop\\SCRAPING_RAPPI\\CODIGO\\COMUNA\\Vitacura\\VITACURA_SIN_TELEFONO.csv\")\n",
    "df_vitacura = pd.read_csv(file_path,sep = ';')"
   ]
  },
  {
   "cell_type": "code",
   "execution_count": null,
   "id": "baa6195e",
   "metadata": {},
   "outputs": [],
   "source": [
    "##BARNECHEA\n",
    "file_path = Path(r\"C:\\Users\\pinnovacion\\Desktop\\SCRAPING_RAPPI\\CODIGO\\COMUNA\\Lo_Barnechea\\LO_BARNECHEA_SIN_TELEFONO.csv\")\n",
    "df_barnechea= pd.read_csv(file_path, sep = ';')"
   ]
  },
  {
   "cell_type": "code",
   "execution_count": null,
   "id": "53ffdf23",
   "metadata": {},
   "outputs": [],
   "source": [
    "#LAS CONDES\n",
    "file_path = Path(r\"C:\\Users\\pinnovacion\\Desktop\\SCRAPING_RAPPI\\CODIGO\\COMUNA\\Las_Condes\\LAS_CONDES_SIN_TELEFONO.csv\")\n",
    "df_las_condes = pd.read_csv(file_path,sep = ';')"
   ]
  },
  {
   "cell_type": "code",
   "execution_count": null,
   "id": "15830892",
   "metadata": {},
   "outputs": [],
   "source": [
    "##PROVIDENCIA\n",
    "file_path = Path(r\"C:\\Users\\pinnovacion\\Desktop\\SCRAPING_RAPPI\\CODIGO\\COMUNA\\Providencia\\MENUS_RESTAURANT_PILOTO_PROVIDENCIA.csv\")\n",
    "df_provi = pd.read_csv(file_path,sep = ';')"
   ]
  },
  {
   "cell_type": "code",
   "execution_count": null,
   "id": "1be97d49",
   "metadata": {},
   "outputs": [],
   "source": [
    "##LA REINA\n",
    "file_path = Path(r\"C:\\Users\\pinnovacion\\Desktop\\SCRAPING_RAPPI\\CODIGO\\COMUNA\\La_Reina\\LA_REINA_SIN_TELEFONO.csv\")\n",
    "df_la_reina = pd.read_csv(file_path,sep = ';')"
   ]
  },
  {
   "cell_type": "code",
   "execution_count": null,
   "id": "a0425a96",
   "metadata": {},
   "outputs": [],
   "source": [
    "##CONCATENAR TODOS LOS DF\n",
    "bd_master = pd.concat([df_provi , df_las_condes,df_la_reina,df_vitacura,df_barnechea,df_nunoa], axis=0)\n"
   ]
  },
  {
   "cell_type": "code",
   "execution_count": null,
   "id": "b1759dd3",
   "metadata": {},
   "outputs": [],
   "source": [
    "W\n",
    "bd_master = bd_master.drop_duplicates()"
   ]
  }
 ],
 "metadata": {
  "kernelspec": {
   "display_name": "Python 3 (ipykernel)",
   "language": "python",
   "name": "python3"
  },
  "language_info": {
   "codemirror_mode": {
    "name": "ipython",
    "version": 3
   },
   "file_extension": ".py",
   "mimetype": "text/x-python",
   "name": "python",
   "nbconvert_exporter": "python",
   "pygments_lexer": "ipython3",
   "version": "3.9.13"
  }
 },
 "nbformat": 4,
 "nbformat_minor": 5
}
